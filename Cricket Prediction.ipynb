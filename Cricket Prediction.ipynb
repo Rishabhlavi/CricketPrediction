{
 "cells": [
  {
   "cell_type": "markdown",
   "metadata": {},
   "source": [
    "# Cricket Prediction using machine learning"
   ]
  },
  {
   "cell_type": "markdown",
   "metadata": {},
   "source": [
    "## Data Preprocessing"
   ]
  },
  {
   "cell_type": "code",
   "execution_count": 66,
   "metadata": {},
   "outputs": [],
   "source": [
    "import pandas as pd"
   ]
  },
  {
   "cell_type": "code",
   "execution_count": 67,
   "metadata": {},
   "outputs": [],
   "source": [
    "dataset=pd.read_csv('ipl.csv',index_col=0)"
   ]
  },
  {
   "cell_type": "code",
   "execution_count": 68,
   "metadata": {},
   "outputs": [
    {
     "data": {
      "text/html": [
       "<div>\n",
       "<style scoped>\n",
       "    .dataframe tbody tr th:only-of-type {\n",
       "        vertical-align: middle;\n",
       "    }\n",
       "\n",
       "    .dataframe tbody tr th {\n",
       "        vertical-align: top;\n",
       "    }\n",
       "\n",
       "    .dataframe thead th {\n",
       "        text-align: right;\n",
       "    }\n",
       "</style>\n",
       "<table border=\"1\" class=\"dataframe\">\n",
       "  <thead>\n",
       "    <tr style=\"text-align: right;\">\n",
       "      <th></th>\n",
       "      <th>city</th>\n",
       "      <th>date</th>\n",
       "      <th>gender</th>\n",
       "      <th>match_type</th>\n",
       "      <th>player of the match</th>\n",
       "      <th>team 1</th>\n",
       "      <th>team 2</th>\n",
       "      <th>toss_decision</th>\n",
       "      <th>toss_winner</th>\n",
       "      <th>umpire_1</th>\n",
       "      <th>umpire_2</th>\n",
       "      <th>venue</th>\n",
       "      <th>win_by_runs</th>\n",
       "      <th>win_by_wickets</th>\n",
       "      <th>winner</th>\n",
       "    </tr>\n",
       "  </thead>\n",
       "  <tbody>\n",
       "    <tr>\n",
       "      <th>0</th>\n",
       "      <td>Bangalore</td>\n",
       "      <td>2008-04-18</td>\n",
       "      <td>male</td>\n",
       "      <td>T20</td>\n",
       "      <td>BB McCullum</td>\n",
       "      <td>Royal Challengers Bangalore</td>\n",
       "      <td>Kolkata Knight Riders</td>\n",
       "      <td>field</td>\n",
       "      <td>Royal Challengers Bangalore</td>\n",
       "      <td>Asad Rauf</td>\n",
       "      <td>RE Koertzen</td>\n",
       "      <td>M Chinnaswamy Stadium</td>\n",
       "      <td>140</td>\n",
       "      <td>0</td>\n",
       "      <td>Kolkata Knight Riders</td>\n",
       "    </tr>\n",
       "    <tr>\n",
       "      <th>1</th>\n",
       "      <td>Chandigarh</td>\n",
       "      <td>2008-04-19</td>\n",
       "      <td>male</td>\n",
       "      <td>T20</td>\n",
       "      <td>MEK Hussey</td>\n",
       "      <td>Kings XI Punjab</td>\n",
       "      <td>Chennai Super Kings</td>\n",
       "      <td>bat</td>\n",
       "      <td>Chennai Super Kings</td>\n",
       "      <td>MR Benson</td>\n",
       "      <td>SL Shastri</td>\n",
       "      <td>Punjab Cricket Association Stadium, Mohali</td>\n",
       "      <td>33</td>\n",
       "      <td>0</td>\n",
       "      <td>Chennai Super Kings</td>\n",
       "    </tr>\n",
       "    <tr>\n",
       "      <th>2</th>\n",
       "      <td>Delhi</td>\n",
       "      <td>2008-04-19</td>\n",
       "      <td>male</td>\n",
       "      <td>T20</td>\n",
       "      <td>MF Maharoof</td>\n",
       "      <td>Delhi Daredevils</td>\n",
       "      <td>Rajasthan Royals</td>\n",
       "      <td>bat</td>\n",
       "      <td>Rajasthan Royals</td>\n",
       "      <td>Aleem Dar</td>\n",
       "      <td>GA Pratapkumar</td>\n",
       "      <td>Feroz Shah Kotla</td>\n",
       "      <td>0</td>\n",
       "      <td>9</td>\n",
       "      <td>Delhi Daredevils</td>\n",
       "    </tr>\n",
       "    <tr>\n",
       "      <th>3</th>\n",
       "      <td>Mumbai</td>\n",
       "      <td>2008-04-20</td>\n",
       "      <td>male</td>\n",
       "      <td>T20</td>\n",
       "      <td>MV Boucher</td>\n",
       "      <td>Mumbai Indians</td>\n",
       "      <td>Royal Challengers Bangalore</td>\n",
       "      <td>bat</td>\n",
       "      <td>Mumbai Indians</td>\n",
       "      <td>SJ Davis</td>\n",
       "      <td>DJ Harper</td>\n",
       "      <td>Wankhede Stadium</td>\n",
       "      <td>0</td>\n",
       "      <td>5</td>\n",
       "      <td>Royal Challengers Bangalore</td>\n",
       "    </tr>\n",
       "    <tr>\n",
       "      <th>4</th>\n",
       "      <td>Kolkata</td>\n",
       "      <td>2008-04-20</td>\n",
       "      <td>male</td>\n",
       "      <td>T20</td>\n",
       "      <td>DJ Hussey</td>\n",
       "      <td>Kolkata Knight Riders</td>\n",
       "      <td>Deccan Chargers</td>\n",
       "      <td>bat</td>\n",
       "      <td>Deccan Chargers</td>\n",
       "      <td>BF Bowden</td>\n",
       "      <td>K Hariharan</td>\n",
       "      <td>Eden Gardens</td>\n",
       "      <td>0</td>\n",
       "      <td>5</td>\n",
       "      <td>Kolkata Knight Riders</td>\n",
       "    </tr>\n",
       "  </tbody>\n",
       "</table>\n",
       "</div>"
      ],
      "text/plain": [
       "         city        date gender match_type player of the match  \\\n",
       "0   Bangalore  2008-04-18   male        T20         BB McCullum   \n",
       "1  Chandigarh  2008-04-19   male        T20          MEK Hussey   \n",
       "2       Delhi  2008-04-19   male        T20         MF Maharoof   \n",
       "3      Mumbai  2008-04-20   male        T20          MV Boucher   \n",
       "4     Kolkata  2008-04-20   male        T20           DJ Hussey   \n",
       "\n",
       "                        team 1                       team 2 toss_decision  \\\n",
       "0  Royal Challengers Bangalore        Kolkata Knight Riders         field   \n",
       "1              Kings XI Punjab          Chennai Super Kings           bat   \n",
       "2             Delhi Daredevils             Rajasthan Royals           bat   \n",
       "3               Mumbai Indians  Royal Challengers Bangalore           bat   \n",
       "4        Kolkata Knight Riders              Deccan Chargers           bat   \n",
       "\n",
       "                   toss_winner   umpire_1        umpire_2  \\\n",
       "0  Royal Challengers Bangalore  Asad Rauf     RE Koertzen   \n",
       "1          Chennai Super Kings  MR Benson      SL Shastri   \n",
       "2             Rajasthan Royals  Aleem Dar  GA Pratapkumar   \n",
       "3               Mumbai Indians   SJ Davis       DJ Harper   \n",
       "4              Deccan Chargers  BF Bowden     K Hariharan   \n",
       "\n",
       "                                        venue  win_by_runs  win_by_wickets  \\\n",
       "0                       M Chinnaswamy Stadium          140               0   \n",
       "1  Punjab Cricket Association Stadium, Mohali           33               0   \n",
       "2                            Feroz Shah Kotla            0               9   \n",
       "3                            Wankhede Stadium            0               5   \n",
       "4                                Eden Gardens            0               5   \n",
       "\n",
       "                        winner  \n",
       "0        Kolkata Knight Riders  \n",
       "1          Chennai Super Kings  \n",
       "2             Delhi Daredevils  \n",
       "3  Royal Challengers Bangalore  \n",
       "4        Kolkata Knight Riders  "
      ]
     },
     "execution_count": 68,
     "metadata": {},
     "output_type": "execute_result"
    }
   ],
   "source": [
    "dataset.head(5)"
   ]
  },
  {
   "cell_type": "code",
   "execution_count": 69,
   "metadata": {},
   "outputs": [
    {
     "data": {
      "text/html": [
       "<div>\n",
       "<style scoped>\n",
       "    .dataframe tbody tr th:only-of-type {\n",
       "        vertical-align: middle;\n",
       "    }\n",
       "\n",
       "    .dataframe tbody tr th {\n",
       "        vertical-align: top;\n",
       "    }\n",
       "\n",
       "    .dataframe thead th {\n",
       "        text-align: right;\n",
       "    }\n",
       "</style>\n",
       "<table border=\"1\" class=\"dataframe\">\n",
       "  <thead>\n",
       "    <tr style=\"text-align: right;\">\n",
       "      <th></th>\n",
       "      <th>city</th>\n",
       "      <th>date</th>\n",
       "      <th>gender</th>\n",
       "      <th>match_type</th>\n",
       "      <th>player of the match</th>\n",
       "      <th>team 1</th>\n",
       "      <th>team 2</th>\n",
       "      <th>toss_decision</th>\n",
       "      <th>toss_winner</th>\n",
       "      <th>umpire_1</th>\n",
       "      <th>umpire_2</th>\n",
       "      <th>venue</th>\n",
       "      <th>win_by_runs</th>\n",
       "      <th>win_by_wickets</th>\n",
       "      <th>winner</th>\n",
       "    </tr>\n",
       "  </thead>\n",
       "  <tbody>\n",
       "    <tr>\n",
       "      <th>631</th>\n",
       "      <td>Delhi</td>\n",
       "      <td>2017-05-14</td>\n",
       "      <td>male</td>\n",
       "      <td>T20</td>\n",
       "      <td>HV Patel</td>\n",
       "      <td>Delhi Daredevils</td>\n",
       "      <td>Royal Challengers Bangalore</td>\n",
       "      <td>bat</td>\n",
       "      <td>Royal Challengers Bangalore</td>\n",
       "      <td>CK Nandan</td>\n",
       "      <td>C Shamshuddin</td>\n",
       "      <td>Feroz Shah Kotla</td>\n",
       "      <td>10</td>\n",
       "      <td>0</td>\n",
       "      <td>Royal Challengers Bangalore</td>\n",
       "    </tr>\n",
       "    <tr>\n",
       "      <th>632</th>\n",
       "      <td>Mumbai</td>\n",
       "      <td>2017-05-16</td>\n",
       "      <td>male</td>\n",
       "      <td>T20</td>\n",
       "      <td>Washington Sundar</td>\n",
       "      <td>Mumbai Indians</td>\n",
       "      <td>Rising Pune Supergiant</td>\n",
       "      <td>field</td>\n",
       "      <td>Mumbai Indians</td>\n",
       "      <td>S Ravi</td>\n",
       "      <td>C Shamshuddin</td>\n",
       "      <td>Wankhede Stadium</td>\n",
       "      <td>20</td>\n",
       "      <td>0</td>\n",
       "      <td>Rising Pune Supergiant</td>\n",
       "    </tr>\n",
       "    <tr>\n",
       "      <th>633</th>\n",
       "      <td>Bangalore</td>\n",
       "      <td>2017-05-17</td>\n",
       "      <td>male</td>\n",
       "      <td>T20</td>\n",
       "      <td>NM Coulter-Nile</td>\n",
       "      <td>Sunrisers Hyderabad</td>\n",
       "      <td>Kolkata Knight Riders</td>\n",
       "      <td>field</td>\n",
       "      <td>Kolkata Knight Riders</td>\n",
       "      <td>AK Chaudhary</td>\n",
       "      <td>Nitin Menon</td>\n",
       "      <td>M Chinnaswamy Stadium</td>\n",
       "      <td>0</td>\n",
       "      <td>7</td>\n",
       "      <td>Kolkata Knight Riders</td>\n",
       "    </tr>\n",
       "    <tr>\n",
       "      <th>634</th>\n",
       "      <td>Bangalore</td>\n",
       "      <td>2017-05-19</td>\n",
       "      <td>male</td>\n",
       "      <td>T20</td>\n",
       "      <td>KV Sharma</td>\n",
       "      <td>Mumbai Indians</td>\n",
       "      <td>Kolkata Knight Riders</td>\n",
       "      <td>field</td>\n",
       "      <td>Mumbai Indians</td>\n",
       "      <td>NJ Llong</td>\n",
       "      <td>Nitin Menon</td>\n",
       "      <td>M Chinnaswamy Stadium</td>\n",
       "      <td>0</td>\n",
       "      <td>6</td>\n",
       "      <td>Mumbai Indians</td>\n",
       "    </tr>\n",
       "    <tr>\n",
       "      <th>635</th>\n",
       "      <td>Hyderabad</td>\n",
       "      <td>2017-05-21</td>\n",
       "      <td>male</td>\n",
       "      <td>T20</td>\n",
       "      <td>KH Pandya</td>\n",
       "      <td>Mumbai Indians</td>\n",
       "      <td>Rising Pune Supergiant</td>\n",
       "      <td>bat</td>\n",
       "      <td>Mumbai Indians</td>\n",
       "      <td>NJ Llong</td>\n",
       "      <td>S Ravi</td>\n",
       "      <td>Rajiv Gandhi International Stadium, Uppal</td>\n",
       "      <td>1</td>\n",
       "      <td>0</td>\n",
       "      <td>Mumbai Indians</td>\n",
       "    </tr>\n",
       "  </tbody>\n",
       "</table>\n",
       "</div>"
      ],
      "text/plain": [
       "          city        date gender match_type player of the match  \\\n",
       "631      Delhi  2017-05-14   male        T20            HV Patel   \n",
       "632     Mumbai  2017-05-16   male        T20   Washington Sundar   \n",
       "633  Bangalore  2017-05-17   male        T20     NM Coulter-Nile   \n",
       "634  Bangalore  2017-05-19   male        T20           KV Sharma   \n",
       "635  Hyderabad  2017-05-21   male        T20           KH Pandya   \n",
       "\n",
       "                  team 1                       team 2 toss_decision  \\\n",
       "631     Delhi Daredevils  Royal Challengers Bangalore           bat   \n",
       "632       Mumbai Indians       Rising Pune Supergiant         field   \n",
       "633  Sunrisers Hyderabad        Kolkata Knight Riders         field   \n",
       "634       Mumbai Indians        Kolkata Knight Riders         field   \n",
       "635       Mumbai Indians       Rising Pune Supergiant           bat   \n",
       "\n",
       "                     toss_winner      umpire_1       umpire_2  \\\n",
       "631  Royal Challengers Bangalore     CK Nandan  C Shamshuddin   \n",
       "632               Mumbai Indians        S Ravi  C Shamshuddin   \n",
       "633        Kolkata Knight Riders  AK Chaudhary    Nitin Menon   \n",
       "634               Mumbai Indians      NJ Llong    Nitin Menon   \n",
       "635               Mumbai Indians      NJ Llong         S Ravi   \n",
       "\n",
       "                                         venue  win_by_runs  win_by_wickets  \\\n",
       "631                           Feroz Shah Kotla           10               0   \n",
       "632                           Wankhede Stadium           20               0   \n",
       "633                      M Chinnaswamy Stadium            0               7   \n",
       "634                      M Chinnaswamy Stadium            0               6   \n",
       "635  Rajiv Gandhi International Stadium, Uppal            1               0   \n",
       "\n",
       "                          winner  \n",
       "631  Royal Challengers Bangalore  \n",
       "632       Rising Pune Supergiant  \n",
       "633        Kolkata Knight Riders  \n",
       "634               Mumbai Indians  \n",
       "635               Mumbai Indians  "
      ]
     },
     "execution_count": 69,
     "metadata": {},
     "output_type": "execute_result"
    }
   ],
   "source": [
    "dataset.tail(5)"
   ]
  },
  {
   "cell_type": "markdown",
   "metadata": {},
   "source": [
    "### removing unneccessary column"
   ]
  },
  {
   "cell_type": "code",
   "execution_count": 70,
   "metadata": {},
   "outputs": [],
   "source": [
    "dataset = dataset.drop(columns=['gender', 'match_type','date'])"
   ]
  },
  {
   "cell_type": "code",
   "execution_count": 71,
   "metadata": {},
   "outputs": [
    {
     "name": "stdout",
     "output_type": "stream",
     "text": [
      "['win_by_runs', 'win_by_wickets', 'city_Abu Dhabi', 'city_Ahmedabad', 'city_Bangalore', 'city_Bloemfontein', 'city_Cape Town', 'city_Centurion', 'city_Chandigarh', 'city_Chennai', 'city_Cuttack', 'city_Delhi', 'city_Dharamsala', 'city_Durban', 'city_East London', 'city_Hyderabad', 'city_Indore', 'city_Jaipur', 'city_Johannesburg', 'city_Kanpur', 'city_Kimberley', 'city_Kochi', 'city_Kolkata', 'city_Mumbai', 'city_Nagpur', 'city_Port Elizabeth', 'city_Pune', 'city_Raipur', 'city_Rajkot', 'city_Ranchi', 'city_Visakhapatnam', 'player of the match_A Chandila', 'player of the match_A Kumble', 'player of the match_A Mishra', 'player of the match_A Nehra', 'player of the match_A Singh', 'player of the match_A Symonds', 'player of the match_A Zampa', 'player of the match_AA Jhunjhunwala', 'player of the match_AB Dinda', 'player of the match_AB de Villiers', 'player of the match_AC Gilchrist', 'player of the match_AC Voges', 'player of the match_AD Mascarenhas', 'player of the match_AD Mathews', 'player of the match_AD Russell', 'player of the match_AJ Finch', 'player of the match_AJ Tye', 'player of the match_AM Rahane', 'player of the match_AP Tare', 'player of the match_AR Patel', 'player of the match_AT Rayudu', 'player of the match_Azhar Mahmood', 'player of the match_B Kumar', 'player of the match_B Lee', 'player of the match_BA Bhatt', 'player of the match_BA Stokes', 'player of the match_BB McCullum', 'player of the match_BCJ Cutting', 'player of the match_BJ Hodge', 'player of the match_BW Hilfenhaus', 'player of the match_CA Lynn', 'player of the match_CH Gayle', 'player of the match_CH Morris', 'player of the match_CJ Anderson', 'player of the match_CL White', 'player of the match_CR Brathwaite', 'player of the match_CRD Fernando', 'player of the match_DA Miller', 'player of the match_DA Warner', 'player of the match_DE Bollinger', 'player of the match_DJ Bravo', 'player of the match_DJ Hooda', 'player of the match_DJ Hussey', 'player of the match_DJG Sammy', 'player of the match_DL Vettori', 'player of the match_DP Nannes', 'player of the match_DPMD Jayawardene', 'player of the match_DR Smith', 'player of the match_DW Steyn', 'player of the match_EJG Morgan', 'player of the match_F du Plessis', 'player of the match_G Gambhir', 'player of the match_GC Smith', 'player of the match_GD McGrath', 'player of the match_GH Vihari', 'player of the match_GJ Bailey', 'player of the match_GJ Maxwell', 'player of the match_HH Gibbs', 'player of the match_HH Pandya', 'player of the match_HM Amla', 'player of the match_HV Patel', 'player of the match_Harbhajan Singh', 'player of the match_Harmeet Singh', 'player of the match_I Sharma', 'player of the match_IK Pathan', 'player of the match_Iqbal Abdulla', 'player of the match_J Botha', 'player of the match_J Theron', 'player of the match_JA Morkel', 'player of the match_JC Buttler', 'player of the match_JD Ryder', 'player of the match_JD Unadkat', 'player of the match_JDP Oram', 'player of the match_JEC Franklin', 'player of the match_JH Kallis', 'player of the match_JJ Bumrah', 'player of the match_JP Duminy', 'player of the match_JP Faulkner', 'player of the match_KA Pollard', 'player of the match_KC Sangakkara', 'player of the match_KD Karthik', 'player of the match_KH Pandya', 'player of the match_KK Cooper', 'player of the match_KK Nair', 'player of the match_KM Jadhav', 'player of the match_KMDN Kulasekara', 'player of the match_KP Pietersen', 'player of the match_KS Williamson', 'player of the match_KV Sharma', 'player of the match_L Balaji', 'player of the match_LH Ferguson', 'player of the match_LJ Wright', 'player of the match_LMP Simmons', 'player of the match_LR Shukla', 'player of the match_LRPL Taylor', 'player of the match_M Kartik', 'player of the match_M Morkel', 'player of the match_M Muralitharan', 'player of the match_M Ntini', 'player of the match_M Vijay', 'player of the match_M Vohra', 'player of the match_MA Agarwal', 'player of the match_MA Starc', 'player of the match_MC Henriques', 'player of the match_MD Mishra', 'player of the match_MEK Hussey', 'player of the match_MF Maharoof', 'player of the match_MG Johnson', 'player of the match_MJ Lumb', 'player of the match_MJ McClenaghan', 'player of the match_MK Pandey', 'player of the match_MK Tiwary', 'player of the match_ML Hayden', 'player of the match_MM Patel', 'player of the match_MM Sharma', 'player of the match_MN Samuels', 'player of the match_MP Stoinis', 'player of the match_MR Marsh', 'player of the match_MS Bisla', 'player of the match_MS Dhoni', 'player of the match_MS Gony', 'player of the match_MV Boucher', 'player of the match_Mandeep Singh', 'player of the match_Mohammed Shami', 'player of the match_Mohammed Siraj', 'player of the match_Mustafizur Rahman', 'player of the match_N Rana', 'player of the match_NM Coulter-Nile', 'player of the match_NV Ojha', 'player of the match_P Kumar', 'player of the match_P Negi', 'player of the match_P Parameswaran', 'player of the match_PA Patel', 'player of the match_PC Valthaty', 'player of the match_PD Collingwood', 'player of the match_PP Chawla', 'player of the match_PP Ojha', 'player of the match_PV Tambe', 'player of the match_Q de Kock', 'player of the match_R Ashwin', 'player of the match_R Bhatia', 'player of the match_R Dravid', 'player of the match_R McLaren', 'player of the match_R Sharma', 'player of the match_R Vinay Kumar', 'player of the match_RA Jadeja', 'player of the match_RA Tripathi', 'player of the match_RE Levi', 'player of the match_RG Sharma', 'player of the match_RJ Harris', 'player of the match_RP Singh', 'player of the match_RR Pant', 'player of the match_RS Bopara', 'player of the match_RV Uthappa', 'player of the match_Rashid Khan', 'player of the match_S Anirudha', 'player of the match_S Aravind', 'player of the match_S Badrinath', 'player of the match_S Dhawan', 'player of the match_S Nadeem', 'player of the match_S Sohal', 'player of the match_S Sreesanth', 'player of the match_SA Asnodkar', 'player of the match_SA Yadav', 'player of the match_SB Jakati', 'player of the match_SB Wagh', 'player of the match_SC Ganguly', 'player of the match_SE Marsh', 'player of the match_SK Raina', 'player of the match_SK Trivedi', 'player of the match_SK Warne', 'player of the match_SL Malinga', 'player of the match_SM Katich', 'player of the match_SM Pollock', 'player of the match_SP Goswami', 'player of the match_SP Narine', 'player of the match_SPD Smith', 'player of the match_SR Tendulkar', 'player of the match_SR Watson', 'player of the match_SS Iyer', 'player of the match_ST Jayasuriya', 'player of the match_SV Samson', 'player of the match_Sandeep Sharma', 'player of the match_Shakib Al Hasan', 'player of the match_Shoaib Akhtar', 'player of the match_Sohail Tanvir', 'player of the match_TA Boult', 'player of the match_TL Suman', 'player of the match_TM Dilshan', 'player of the match_UT Yadav', 'player of the match_Umar Gul', 'player of the match_V Kohli', 'player of the match_V Sehwag', 'player of the match_VR Aaron', 'player of the match_WP Saha', 'player of the match_WPUJC Vaas', 'player of the match_Washington Sundar', 'player of the match_YK Pathan', 'player of the match_YS Chahal', 'player of the match_Yuvraj Singh', 'player of the match_Z Khan', 'team 1_Chennai Super Kings', 'team 1_Deccan Chargers', 'team 1_Delhi Daredevils', 'team 1_Gujarat Lions', 'team 1_Kings XI Punjab', 'team 1_Kochi Tuskers Kerala', 'team 1_Kolkata Knight Riders', 'team 1_Mumbai Indians', 'team 1_Pune Warriors', 'team 1_Rajasthan Royals', 'team 1_Rising Pune Supergiant', 'team 1_Rising Pune Supergiants', 'team 1_Royal Challengers Bangalore', 'team 1_Sunrisers Hyderabad', 'team 2_Chennai Super Kings', 'team 2_Deccan Chargers', 'team 2_Delhi Daredevils', 'team 2_Gujarat Lions', 'team 2_Kings XI Punjab', 'team 2_Kochi Tuskers Kerala', 'team 2_Kolkata Knight Riders', 'team 2_Mumbai Indians', 'team 2_Pune Warriors', 'team 2_Rajasthan Royals', 'team 2_Rising Pune Supergiant', 'team 2_Rising Pune Supergiants', 'team 2_Royal Challengers Bangalore', 'team 2_Sunrisers Hyderabad', 'toss_decision_bat', 'toss_decision_field', 'toss_winner_Chennai Super Kings', 'toss_winner_Deccan Chargers', 'toss_winner_Delhi Daredevils', 'toss_winner_Gujarat Lions', 'toss_winner_Kings XI Punjab', 'toss_winner_Kochi Tuskers Kerala', 'toss_winner_Kolkata Knight Riders', 'toss_winner_Mumbai Indians', 'toss_winner_Pune Warriors', 'toss_winner_Rajasthan Royals', 'toss_winner_Rising Pune Supergiant', 'toss_winner_Rising Pune Supergiants', 'toss_winner_Royal Challengers Bangalore', 'toss_winner_Sunrisers Hyderabad', 'umpire_1_A Deshmukh', 'umpire_1_A Nand Kishore', 'umpire_1_AK Chaudhary', 'umpire_1_AM Saheba', 'umpire_1_AV Jayaprakash', 'umpire_1_AY Dandekar', 'umpire_1_Aleem Dar', 'umpire_1_Asad Rauf', 'umpire_1_BF Bowden', 'umpire_1_BG Jerling', 'umpire_1_BNJ Oxenford', 'umpire_1_BR Doctrove', 'umpire_1_C Shamshuddin', 'umpire_1_CB Gaffaney', 'umpire_1_CK Nandan', 'umpire_1_DJ Harper', 'umpire_1_GAV Baxter', 'umpire_1_HDPK Dharmasena', 'umpire_1_IL Howell', 'umpire_1_JD Cloete', 'umpire_1_K Bharatan', 'umpire_1_K Hariharan', 'umpire_1_K Srinath', 'umpire_1_KN Ananthapadmanabhan', 'umpire_1_M Erasmus', 'umpire_1_MR Benson', 'umpire_1_NJ Llong', 'umpire_1_Nitin Menon', 'umpire_1_PG Pathak', 'umpire_1_PR Reiffel', 'umpire_1_RE Koertzen', 'umpire_1_RK Illingworth', 'umpire_1_RM Deshpande', 'umpire_1_S Asnani', 'umpire_1_S Das', 'umpire_1_S Ravi', 'umpire_1_SD Fry', 'umpire_1_SJ Davis', 'umpire_1_SJA Taufel', 'umpire_1_SK Tarapore', 'umpire_1_SL Shastri', 'umpire_1_SS Hazare', 'umpire_1_VA Kulkarni', 'umpire_1_YC Barde', 'umpire_2_A Deshmukh', 'umpire_2_A Nand Kishore', 'umpire_2_AK Chaudhary', 'umpire_2_AL Hill', 'umpire_2_AM Saheba', 'umpire_2_AV Jayaprakash', 'umpire_2_BG Jerling', 'umpire_2_BNJ Oxenford', 'umpire_2_BR Doctrove', 'umpire_2_C Shamshuddin', 'umpire_2_CB Gaffaney', 'umpire_2_CK Nandan', 'umpire_2_DJ Harper', 'umpire_2_GA Pratapkumar', 'umpire_2_HDPK Dharmasena', 'umpire_2_I Shivram', 'umpire_2_IL Howell', 'umpire_2_JD Cloete', 'umpire_2_K Hariharan', 'umpire_2_K Srinath', 'umpire_2_K Srinivasan', 'umpire_2_M Erasmus', 'umpire_2_MR Benson', 'umpire_2_NJ Llong', 'umpire_2_Nitin Menon', 'umpire_2_PG Pathak', 'umpire_2_PR Reiffel', 'umpire_2_RB Tiffin', 'umpire_2_RE Koertzen', 'umpire_2_RJ Tucker', 'umpire_2_RK Illingworth', 'umpire_2_S Asnani', 'umpire_2_S Das', 'umpire_2_S Ravi', 'umpire_2_SD Fry', 'umpire_2_SD Ranade', 'umpire_2_SJ Davis', 'umpire_2_SJA Taufel', 'umpire_2_SK Tarapore', 'umpire_2_SL Shastri', 'umpire_2_SS Hazare', 'umpire_2_Subroto Das', 'umpire_2_TH Wijewardene', 'umpire_2_VA Kulkarni', 'umpire_2_VK Sharma', 'venue_Barabati Stadium', 'venue_Brabourne Stadium', 'venue_Buffalo Park', 'venue_De Beers Diamond Oval', 'venue_Dr DY Patil Sports Academy', 'venue_Dr. Y.S. Rajasekhara Reddy ACA-VDCA Cricket Stadium', 'venue_Dubai International Cricket Stadium', 'venue_Eden Gardens', 'venue_Feroz Shah Kotla', 'venue_Green Park', 'venue_Himachal Pradesh Cricket Association Stadium', 'venue_Holkar Cricket Stadium', 'venue_JSCA International Stadium Complex', 'venue_Kingsmead', 'venue_M Chinnaswamy Stadium', 'venue_MA Chidambaram Stadium, Chepauk', 'venue_Maharashtra Cricket Association Stadium', 'venue_Nehru Stadium', 'venue_New Wanderers Stadium', 'venue_Newlands', 'venue_OUTsurance Oval', 'venue_Punjab Cricket Association IS Bindra Stadium, Mohali', 'venue_Punjab Cricket Association Stadium, Mohali', 'venue_Rajiv Gandhi International Stadium, Uppal', 'venue_Sardar Patel Stadium, Motera', 'venue_Saurashtra Cricket Association Stadium', 'venue_Sawai Mansingh Stadium', 'venue_Shaheed Veer Narayan Singh International Stadium', 'venue_Sharjah Cricket Stadium', 'venue_Sheikh Zayed Stadium', \"venue_St George's Park\", 'venue_Subrata Roy Sahara Stadium', 'venue_SuperSport Park', 'venue_Vidarbha Cricket Association Stadium, Jamtha', 'venue_Wankhede Stadium', 'winner_Chennai Super Kings', 'winner_Deccan Chargers', 'winner_Delhi Daredevils', 'winner_Gujarat Lions', 'winner_Kings XI Punjab', 'winner_Kochi Tuskers Kerala', 'winner_Kolkata Knight Riders', 'winner_Mumbai Indians', 'winner_Pune Warriors', 'winner_Rajasthan Royals', 'winner_Rising Pune Supergiant', 'winner_Rising Pune Supergiants', 'winner_Royal Challengers Bangalore', 'winner_Sunrisers Hyderabad', 'winner_no result', 'winner_tie']\n"
     ]
    }
   ],
   "source": [
    "data_dummies=pd.get_dummies(dataset)\n",
    "\n",
    "print(list(data_dummies.columns))"
   ]
  },
  {
   "cell_type": "markdown",
   "metadata": {},
   "source": [
    "### creating matrix of independent variables"
   ]
  },
  {
   "cell_type": "code",
   "execution_count": 74,
   "metadata": {},
   "outputs": [],
   "source": [
    "X = data_dummies.loc[:,'win_by_runs':'winner_Chennai Super Kings']"
   ]
  },
  {
   "cell_type": "markdown",
   "metadata": {},
   "source": [
    "### creating dependent variable vector"
   ]
  },
  {
   "cell_type": "code",
   "execution_count": 75,
   "metadata": {},
   "outputs": [],
   "source": [
    "y = data_dummies.loc[:,'winner_Chennai Super Kings':'winner_tie']"
   ]
  },
  {
   "cell_type": "code",
   "execution_count": 76,
   "metadata": {},
   "outputs": [
    {
     "name": "stderr",
     "output_type": "stream",
     "text": [
      "/home/nihal/anaconda3/lib/python3.6/site-packages/sklearn/cross_validation.py:41: DeprecationWarning: This module was deprecated in version 0.18 in favor of the model_selection module into which all the refactored classes and functions are moved. Also note that the interface of the new CV iterators are different from that of this module. This module will be removed in 0.20.\n",
      "  \"This module will be removed in 0.20.\", DeprecationWarning)\n"
     ]
    }
   ],
   "source": [
    "from sklearn.cross_validation import train_test_split\n",
    "\n",
    "X_train, X_test, y_train, y_test = train_test_split(X, \n",
    "                                                    y, \n",
    "                                                    random_state = 0)"
   ]
  },
  {
   "cell_type": "code",
   "execution_count": 83,
   "metadata": {},
   "outputs": [
    {
     "data": {
      "text/plain": [
       "DecisionTreeClassifier(class_weight=None, criterion='gini', max_depth=None,\n",
       "            max_features=None, max_leaf_nodes=None,\n",
       "            min_impurity_decrease=0.0, min_impurity_split=None,\n",
       "            min_samples_leaf=1, min_samples_split=2,\n",
       "            min_weight_fraction_leaf=0.0, presort=False, random_state=None,\n",
       "            splitter='best')"
      ]
     },
     "execution_count": 83,
     "metadata": {},
     "output_type": "execute_result"
    }
   ],
   "source": [
    "from sklearn.tree import DecisionTreeClassifier\n",
    "\n",
    "tree = DecisionTreeClassifier()\n",
    "\n",
    "tree.fit(X_train,y_train)"
   ]
  },
  {
   "cell_type": "code",
   "execution_count": 84,
   "metadata": {},
   "outputs": [
    {
     "data": {
      "text/plain": [
       "0.6163522012578616"
      ]
     },
     "execution_count": 84,
     "metadata": {},
     "output_type": "execute_result"
    }
   ],
   "source": [
    "tree.score(X_test,y_test)"
   ]
  },
  {
   "cell_type": "code",
   "execution_count": 85,
   "metadata": {},
   "outputs": [
    {
     "ename": "ValueError",
     "evalue": "bad input shape (477, 16)",
     "output_type": "error",
     "traceback": [
      "\u001b[0;31m---------------------------------------------------------------------------\u001b[0m",
      "\u001b[0;31mValueError\u001b[0m                                Traceback (most recent call last)",
      "\u001b[0;32m<ipython-input-85-e0ce3b244f0b>\u001b[0m in \u001b[0;36m<module>\u001b[0;34m()\u001b[0m\n\u001b[1;32m      3\u001b[0m \u001b[0mgb\u001b[0m\u001b[0;34m=\u001b[0m\u001b[0mGradientBoostingClassifier\u001b[0m\u001b[0;34m(\u001b[0m\u001b[0;34m)\u001b[0m\u001b[0;34m\u001b[0m\u001b[0m\n\u001b[1;32m      4\u001b[0m \u001b[0;34m\u001b[0m\u001b[0m\n\u001b[0;32m----> 5\u001b[0;31m \u001b[0mgb\u001b[0m\u001b[0;34m.\u001b[0m\u001b[0mfit\u001b[0m\u001b[0;34m(\u001b[0m\u001b[0mX_train\u001b[0m\u001b[0;34m,\u001b[0m\u001b[0my_train\u001b[0m\u001b[0;34m)\u001b[0m\u001b[0;34m\u001b[0m\u001b[0m\n\u001b[0m\u001b[1;32m      6\u001b[0m \u001b[0;34m\u001b[0m\u001b[0m\n\u001b[1;32m      7\u001b[0m \u001b[0mgb\u001b[0m\u001b[0;34m.\u001b[0m\u001b[0mscore\u001b[0m\u001b[0;34m(\u001b[0m\u001b[0mX_test\u001b[0m\u001b[0;34m,\u001b[0m\u001b[0my_test\u001b[0m\u001b[0;34m)\u001b[0m\u001b[0;34m\u001b[0m\u001b[0m\n",
      "\u001b[0;32m~/anaconda3/lib/python3.6/site-packages/sklearn/ensemble/gradient_boosting.py\u001b[0m in \u001b[0;36mfit\u001b[0;34m(self, X, y, sample_weight, monitor)\u001b[0m\n\u001b[1;32m    977\u001b[0m \u001b[0;34m\u001b[0m\u001b[0m\n\u001b[1;32m    978\u001b[0m         \u001b[0;31m# Check input\u001b[0m\u001b[0;34m\u001b[0m\u001b[0;34m\u001b[0m\u001b[0m\n\u001b[0;32m--> 979\u001b[0;31m         \u001b[0mX\u001b[0m\u001b[0;34m,\u001b[0m \u001b[0my\u001b[0m \u001b[0;34m=\u001b[0m \u001b[0mcheck_X_y\u001b[0m\u001b[0;34m(\u001b[0m\u001b[0mX\u001b[0m\u001b[0;34m,\u001b[0m \u001b[0my\u001b[0m\u001b[0;34m,\u001b[0m \u001b[0maccept_sparse\u001b[0m\u001b[0;34m=\u001b[0m\u001b[0;34m[\u001b[0m\u001b[0;34m'csr'\u001b[0m\u001b[0;34m,\u001b[0m \u001b[0;34m'csc'\u001b[0m\u001b[0;34m,\u001b[0m \u001b[0;34m'coo'\u001b[0m\u001b[0;34m]\u001b[0m\u001b[0;34m,\u001b[0m \u001b[0mdtype\u001b[0m\u001b[0;34m=\u001b[0m\u001b[0mDTYPE\u001b[0m\u001b[0;34m)\u001b[0m\u001b[0;34m\u001b[0m\u001b[0m\n\u001b[0m\u001b[1;32m    980\u001b[0m         \u001b[0mn_samples\u001b[0m\u001b[0;34m,\u001b[0m \u001b[0mself\u001b[0m\u001b[0;34m.\u001b[0m\u001b[0mn_features_\u001b[0m \u001b[0;34m=\u001b[0m \u001b[0mX\u001b[0m\u001b[0;34m.\u001b[0m\u001b[0mshape\u001b[0m\u001b[0;34m\u001b[0m\u001b[0m\n\u001b[1;32m    981\u001b[0m         \u001b[0;32mif\u001b[0m \u001b[0msample_weight\u001b[0m \u001b[0;32mis\u001b[0m \u001b[0;32mNone\u001b[0m\u001b[0;34m:\u001b[0m\u001b[0;34m\u001b[0m\u001b[0m\n",
      "\u001b[0;32m~/anaconda3/lib/python3.6/site-packages/sklearn/utils/validation.py\u001b[0m in \u001b[0;36mcheck_X_y\u001b[0;34m(X, y, accept_sparse, dtype, order, copy, force_all_finite, ensure_2d, allow_nd, multi_output, ensure_min_samples, ensure_min_features, y_numeric, warn_on_dtype, estimator)\u001b[0m\n\u001b[1;32m    576\u001b[0m                         dtype=None)\n\u001b[1;32m    577\u001b[0m     \u001b[0;32melse\u001b[0m\u001b[0;34m:\u001b[0m\u001b[0;34m\u001b[0m\u001b[0m\n\u001b[0;32m--> 578\u001b[0;31m         \u001b[0my\u001b[0m \u001b[0;34m=\u001b[0m \u001b[0mcolumn_or_1d\u001b[0m\u001b[0;34m(\u001b[0m\u001b[0my\u001b[0m\u001b[0;34m,\u001b[0m \u001b[0mwarn\u001b[0m\u001b[0;34m=\u001b[0m\u001b[0;32mTrue\u001b[0m\u001b[0;34m)\u001b[0m\u001b[0;34m\u001b[0m\u001b[0m\n\u001b[0m\u001b[1;32m    579\u001b[0m         \u001b[0m_assert_all_finite\u001b[0m\u001b[0;34m(\u001b[0m\u001b[0my\u001b[0m\u001b[0;34m)\u001b[0m\u001b[0;34m\u001b[0m\u001b[0m\n\u001b[1;32m    580\u001b[0m     \u001b[0;32mif\u001b[0m \u001b[0my_numeric\u001b[0m \u001b[0;32mand\u001b[0m \u001b[0my\u001b[0m\u001b[0;34m.\u001b[0m\u001b[0mdtype\u001b[0m\u001b[0;34m.\u001b[0m\u001b[0mkind\u001b[0m \u001b[0;34m==\u001b[0m \u001b[0;34m'O'\u001b[0m\u001b[0;34m:\u001b[0m\u001b[0;34m\u001b[0m\u001b[0m\n",
      "\u001b[0;32m~/anaconda3/lib/python3.6/site-packages/sklearn/utils/validation.py\u001b[0m in \u001b[0;36mcolumn_or_1d\u001b[0;34m(y, warn)\u001b[0m\n\u001b[1;32m    612\u001b[0m         \u001b[0;32mreturn\u001b[0m \u001b[0mnp\u001b[0m\u001b[0;34m.\u001b[0m\u001b[0mravel\u001b[0m\u001b[0;34m(\u001b[0m\u001b[0my\u001b[0m\u001b[0;34m)\u001b[0m\u001b[0;34m\u001b[0m\u001b[0m\n\u001b[1;32m    613\u001b[0m \u001b[0;34m\u001b[0m\u001b[0m\n\u001b[0;32m--> 614\u001b[0;31m     \u001b[0;32mraise\u001b[0m \u001b[0mValueError\u001b[0m\u001b[0;34m(\u001b[0m\u001b[0;34m\"bad input shape {0}\"\u001b[0m\u001b[0;34m.\u001b[0m\u001b[0mformat\u001b[0m\u001b[0;34m(\u001b[0m\u001b[0mshape\u001b[0m\u001b[0;34m)\u001b[0m\u001b[0;34m)\u001b[0m\u001b[0;34m\u001b[0m\u001b[0m\n\u001b[0m\u001b[1;32m    615\u001b[0m \u001b[0;34m\u001b[0m\u001b[0m\n\u001b[1;32m    616\u001b[0m \u001b[0;34m\u001b[0m\u001b[0m\n",
      "\u001b[0;31mValueError\u001b[0m: bad input shape (477, 16)"
     ]
    }
   ],
   "source": [
    "from sklearn.ensemble import GradientBoostingClassifier\n",
    "\n",
    "gb=GradientBoostingClassifier()\n",
    "\n",
    "gb.fit(X_train,y_train)\n",
    "\n",
    "gb.score(X_test,y_test)"
   ]
  },
  {
   "cell_type": "code",
   "execution_count": null,
   "metadata": {},
   "outputs": [],
   "source": []
  }
 ],
 "metadata": {
  "kernelspec": {
   "display_name": "Python 3",
   "language": "python",
   "name": "python3"
  },
  "language_info": {
   "codemirror_mode": {
    "name": "ipython",
    "version": 3
   },
   "file_extension": ".py",
   "mimetype": "text/x-python",
   "name": "python",
   "nbconvert_exporter": "python",
   "pygments_lexer": "ipython3",
   "version": "3.6.4"
  }
 },
 "nbformat": 4,
 "nbformat_minor": 2
}
