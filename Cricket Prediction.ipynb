{
 "cells": [
  {
   "cell_type": "markdown",
   "metadata": {},
   "source": [
    "# Cricket Prediction using machine learning"
   ]
  },
  {
   "cell_type": "markdown",
   "metadata": {},
   "source": [
    "## Data Preprocessing"
   ]
  },
  {
   "cell_type": "code",
   "execution_count": 1,
   "metadata": {},
   "outputs": [],
   "source": [
    "import pandas as pd"
   ]
  },
  {
   "cell_type": "code",
   "execution_count": 2,
   "metadata": {},
   "outputs": [],
   "source": [
    "dataset=pd.read_csv('ipl.csv',index_col=0)"
   ]
  },
  {
   "cell_type": "code",
   "execution_count": 3,
   "metadata": {},
   "outputs": [],
   "source": [
    "dataset = dataset.drop(columns=['gender', 'match_type','date','umpire_1','umpire_2','player of the match','win_by_runs','win_by_wickets'])"
   ]
  },
  {
   "cell_type": "code",
   "execution_count": 4,
   "metadata": {},
   "outputs": [
    {
     "data": {
      "text/plain": [
       "Index(['city'], dtype='object')"
      ]
     },
     "execution_count": 4,
     "metadata": {},
     "output_type": "execute_result"
    }
   ],
   "source": [
    "# columns with missing values\n",
    "dataset.columns[dataset.isnull().any()]"
   ]
  },
  {
   "cell_type": "code",
   "execution_count": 5,
   "metadata": {},
   "outputs": [],
   "source": [
    "# replace missing column with mode value\n",
    "dataset['city'].fillna(dataset['city'].mode()[0], inplace=True)"
   ]
  },
  {
   "cell_type": "code",
   "execution_count": 6,
   "metadata": {},
   "outputs": [],
   "source": [
    "dataset.columns[dataset.isnull().any()]\n",
    "\n",
    "dataset.replace(['Mumbai Indians','Kolkata Knight Riders','Royal Challengers Bangalore','Deccan Chargers','Chennai Super Kings',\n",
    "                 'Rajasthan Royals','Delhi Daredevils','Gujarat Lions','Kings XI Punjab',\n",
    "                 'Sunrisers Hyderabad','Rising Pune Supergiants','Kochi Tuskers Kerala','Pune Warriors','Rising Pune Supergiant']\n",
    "                ,['MI','KKR','RCB','DC','CSK','RR','DD','GL','KXIP','SRH','RPS','KTK','PW','RPS'],inplace=True)"
   ]
  },
  {
   "cell_type": "code",
   "execution_count": 7,
   "metadata": {},
   "outputs": [
    {
     "data": {
      "text/html": [
       "<div>\n",
       "<style scoped>\n",
       "    .dataframe tbody tr th:only-of-type {\n",
       "        vertical-align: middle;\n",
       "    }\n",
       "\n",
       "    .dataframe tbody tr th {\n",
       "        vertical-align: top;\n",
       "    }\n",
       "\n",
       "    .dataframe thead th {\n",
       "        text-align: right;\n",
       "    }\n",
       "</style>\n",
       "<table border=\"1\" class=\"dataframe\">\n",
       "  <thead>\n",
       "    <tr style=\"text-align: right;\">\n",
       "      <th></th>\n",
       "      <th>city</th>\n",
       "      <th>team 1</th>\n",
       "      <th>team 2</th>\n",
       "      <th>toss_decision</th>\n",
       "      <th>toss_winner</th>\n",
       "      <th>venue</th>\n",
       "      <th>winner</th>\n",
       "    </tr>\n",
       "  </thead>\n",
       "  <tbody>\n",
       "    <tr>\n",
       "      <th>0</th>\n",
       "      <td>Bangalore</td>\n",
       "      <td>RCB</td>\n",
       "      <td>KKR</td>\n",
       "      <td>field</td>\n",
       "      <td>RCB</td>\n",
       "      <td>M Chinnaswamy Stadium</td>\n",
       "      <td>KKR</td>\n",
       "    </tr>\n",
       "    <tr>\n",
       "      <th>1</th>\n",
       "      <td>Chandigarh</td>\n",
       "      <td>KXIP</td>\n",
       "      <td>CSK</td>\n",
       "      <td>bat</td>\n",
       "      <td>CSK</td>\n",
       "      <td>Punjab Cricket Association Stadium, Mohali</td>\n",
       "      <td>CSK</td>\n",
       "    </tr>\n",
       "    <tr>\n",
       "      <th>2</th>\n",
       "      <td>Delhi</td>\n",
       "      <td>DD</td>\n",
       "      <td>RR</td>\n",
       "      <td>bat</td>\n",
       "      <td>RR</td>\n",
       "      <td>Feroz Shah Kotla</td>\n",
       "      <td>DD</td>\n",
       "    </tr>\n",
       "    <tr>\n",
       "      <th>3</th>\n",
       "      <td>Mumbai</td>\n",
       "      <td>MI</td>\n",
       "      <td>RCB</td>\n",
       "      <td>bat</td>\n",
       "      <td>MI</td>\n",
       "      <td>Wankhede Stadium</td>\n",
       "      <td>RCB</td>\n",
       "    </tr>\n",
       "    <tr>\n",
       "      <th>4</th>\n",
       "      <td>Kolkata</td>\n",
       "      <td>KKR</td>\n",
       "      <td>DC</td>\n",
       "      <td>bat</td>\n",
       "      <td>DC</td>\n",
       "      <td>Eden Gardens</td>\n",
       "      <td>KKR</td>\n",
       "    </tr>\n",
       "  </tbody>\n",
       "</table>\n",
       "</div>"
      ],
      "text/plain": [
       "         city team 1 team 2 toss_decision toss_winner  \\\n",
       "0   Bangalore    RCB    KKR         field         RCB   \n",
       "1  Chandigarh   KXIP    CSK           bat         CSK   \n",
       "2       Delhi     DD     RR           bat          RR   \n",
       "3      Mumbai     MI    RCB           bat          MI   \n",
       "4     Kolkata    KKR     DC           bat          DC   \n",
       "\n",
       "                                        venue winner  \n",
       "0                       M Chinnaswamy Stadium    KKR  \n",
       "1  Punjab Cricket Association Stadium, Mohali    CSK  \n",
       "2                            Feroz Shah Kotla     DD  \n",
       "3                            Wankhede Stadium    RCB  \n",
       "4                                Eden Gardens    KKR  "
      ]
     },
     "execution_count": 7,
     "metadata": {},
     "output_type": "execute_result"
    }
   ],
   "source": [
    "dataset.head(5)"
   ]
  },
  {
   "cell_type": "code",
   "execution_count": 8,
   "metadata": {},
   "outputs": [],
   "source": [
    "def createDict(series) :\n",
    "    \n",
    "    dictionary={}\n",
    "    \n",
    "    i=0\n",
    "    \n",
    "    for ser in series :\n",
    "        if(ser in dictionary) :\n",
    "            continue\n",
    "        dictionary[ser]=i\n",
    "        i=i+1\n",
    "        \n",
    "    return dictionary"
   ]
  },
  {
   "cell_type": "code",
   "execution_count": 9,
   "metadata": {},
   "outputs": [],
   "source": [
    "teamDict=createDict(dataset['team 1'])\n",
    "\n",
    "cityDict=createDict(dataset['city'])\n",
    "\n",
    "venueDict=createDict(dataset['venue'])\n",
    "\n",
    "tossDecisionDict=createDict(dataset['toss_decision'])\n",
    "\n",
    "winnerDict=dict(teamDict)\n",
    "\n",
    "winnerDict['tie']=14\n",
    "\n",
    "winnerDict['no result']=15"
   ]
  },
  {
   "cell_type": "code",
   "execution_count": 10,
   "metadata": {},
   "outputs": [],
   "source": [
    "encode = {\n",
    "'team 1': teamDict,\n",
    "'team 2': teamDict,\n",
    "'toss_winner': teamDict,\n",
    "'winner': winnerDict,\n",
    "'city':cityDict,\n",
    "'venue':venueDict,\n",
    "'toss_decision': tossDecisionDict    \n",
    " }\n",
    "dataset.replace(encode, inplace=True)"
   ]
  },
  {
   "cell_type": "code",
   "execution_count": 11,
   "metadata": {},
   "outputs": [],
   "source": []
  },
  {
   "cell_type": "code",
   "execution_count": 12,
   "metadata": {},
   "outputs": [],
   "source": [
    "def prediction(Model,X_train,y_train,X_test,y_test) :\n",
    "    \n",
    "    clf=Model()\n",
    "    \n",
    "    clf.fit(X_train,y_train)\n",
    "    \n",
    "    print(clf.score(X_test,y_test))\n",
    "    \n",
    "    return clf"
   ]
  },
  {
   "cell_type": "code",
   "execution_count": 13,
   "metadata": {},
   "outputs": [],
   "source": [
    "def predictWinner():    \n",
    "    \n",
    "    from sklearn.neural_network import MLPClassifier\n",
    "\n",
    "    from sklearn.svm import LinearSVC\n",
    "\n",
    "    from sklearn.linear_model import LogisticRegression\n",
    "\n",
    "    from sklearn.ensemble import RandomForestClassifier\n",
    "\n",
    "    clf_A = prediction(MLPClassifier,X_train,y_train,X_test,y_test)\n",
    "\n",
    "    clf_B = prediction(LinearSVC,X_train,y_train,X_test,y_test)\n",
    "\n",
    "    clf_C = prediction(LogisticRegression,X_train,y_train,X_test,y_test)\n",
    "\n",
    "    clf_D = prediction(RandomForestClassifier,X_train,y_train,X_test,y_test)\n",
    "    "
   ]
  },
  {
   "cell_type": "code",
   "execution_count": 14,
   "metadata": {},
   "outputs": [],
   "source": [
    "from sklearn.neural_network import MLPClassifier\n",
    "\n",
    "from sklearn.linear_model import LogisticRegression\n",
    "\n",
    "def buildModel(dataset,team1,team2) :\n",
    "\n",
    "    \n",
    "    dataset=dataset[\n",
    "        ((dataset['team 1']==team1)&(dataset['team 2']==team2) | \n",
    "         (dataset['team 1']==team2)&(dataset['team 2']==team1))\n",
    "    ]\n",
    "\n",
    "\n",
    "    winner = dataset['winner']\n",
    "\n",
    "    features = dataset.drop('winner',axis=1)\n",
    "\n",
    "    features = pd.get_dummies(features)\n",
    "\n",
    "    clf=LogisticRegression()\n",
    "\n",
    "    clf.fit(features,winner)\n",
    "\n",
    "    return clf"
   ]
  },
  {
   "cell_type": "code",
   "execution_count": 23,
   "metadata": {},
   "outputs": [],
   "source": [
    "def getPrediction(city,team1,team2,toss_decision,toss_winner,venue) :\n",
    "\n",
    "    predictionSet = pd.DataFrame({\n",
    "        'city':cityDict[city],\n",
    "        'team 1':teamDict[team1],\n",
    "        'team 2':teamDict[team2],\n",
    "        'toss_decision':[toss_decision],\n",
    "        'toss_winner':teamDict[toss_winner],\n",
    "        'venue':venueDict[venue]\n",
    "    })\n",
    "\n",
    "    predictionSet = pd.get_dummies(predictionSet)\n",
    "    \n",
    "    clf=buildModel(dataset,teamDict[team1],teamDict[team2])\n",
    "    \n",
    "    prediction=clf.predict(predictionSet)\n",
    "    \n",
    "    for key,value in teamDict.items() :\n",
    "        \n",
    "        if(value==prediction) :\n",
    "            \n",
    "            print(key)"
   ]
  },
  {
   "cell_type": "code",
   "execution_count": 24,
   "metadata": {},
   "outputs": [
    {
     "name": "stdout",
     "output_type": "stream",
     "text": [
      "KKR\n"
     ]
    }
   ],
   "source": [
    "\n",
    "getPrediction('Bangalore','KKR','RCB','field','RCB','M Chinnaswamy Stadium')"
   ]
  },
  {
   "cell_type": "code",
   "execution_count": 25,
   "metadata": {},
   "outputs": [
    {
     "name": "stdout",
     "output_type": "stream",
     "text": [
      "CSK\n"
     ]
    }
   ],
   "source": [
    "getPrediction('Chandigarh','KXIP','CSK','bat','CSK','Punjab Cricket Association Stadium, Mohali')"
   ]
  },
  {
   "cell_type": "code",
   "execution_count": 26,
   "metadata": {},
   "outputs": [
    {
     "name": "stdout",
     "output_type": "stream",
     "text": [
      "DD\n"
     ]
    }
   ],
   "source": [
    "getPrediction('Delhi','DD','RR','bat','RR','Feroz Shah Kotla')"
   ]
  },
  {
   "cell_type": "code",
   "execution_count": null,
   "metadata": {},
   "outputs": [],
   "source": []
  }
 ],
 "metadata": {
  "kernelspec": {
   "display_name": "Python 3",
   "language": "python",
   "name": "python3"
  },
  "language_info": {
   "codemirror_mode": {
    "name": "ipython",
    "version": 3
   },
   "file_extension": ".py",
   "mimetype": "text/x-python",
   "name": "python",
   "nbconvert_exporter": "python",
   "pygments_lexer": "ipython3",
   "version": "3.6.5"
  }
 },
 "nbformat": 4,
 "nbformat_minor": 2
}
